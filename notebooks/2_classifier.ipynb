{
 "cells": [
  {
   "attachments": {},
   "cell_type": "markdown",
   "metadata": {},
   "source": [
    "# Эксперименты с классификатором"
   ]
  },
  {
   "attachments": {},
   "cell_type": "markdown",
   "metadata": {},
   "source": [
    "## Подготовка данных"
   ]
  },
  {
   "cell_type": "code",
   "execution_count": 1,
   "metadata": {},
   "outputs": [
    {
     "name": "stderr",
     "output_type": "stream",
     "text": [
      "/Users/citizen2/Documents/miltask/.venv/lib/python3.10/site-packages/tqdm/auto.py:22: TqdmWarning: IProgress not found. Please update jupyter and ipywidgets. See https://ipywidgets.readthedocs.io/en/stable/user_install.html\n",
      "  from .autonotebook import tqdm as notebook_tqdm\n"
     ]
    }
   ],
   "source": [
    "import torch\n",
    "import torchvision\n",
    "import matplotlib.pyplot as plt\n",
    "import torchmetrics\n",
    "import torch.nn.functional as F\n",
    "\n",
    "from torch import nn\n",
    "from pytorch_lightning import LightningModule\n",
    "from torchvision.datasets import CIFAR10\n",
    "from torchvision import transforms\n",
    "from torch.utils.tensorboard import SummaryWriter\n",
    "from pytorch_lightning import Trainer\n",
    "from pytorch_lightning.loggers import TensorBoardLogger\n",
    "\n",
    "from src.models.autoencoder import MyAutoencoder\n",
    "from src.utils import grid_plot, vis_confusion"
   ]
  },
  {
   "cell_type": "code",
   "execution_count": 2,
   "metadata": {},
   "outputs": [
    {
     "name": "stdout",
     "output_type": "stream",
     "text": [
      "Files already downloaded and verified\n",
      "mean: [0.49139968 0.48215841 0.44653091]\n",
      "std: [0.24703223 0.24348513 0.26158784]\n"
     ]
    }
   ],
   "source": [
    "data = CIFAR10('../data/', train=True, download=True)\n",
    "\n",
    "mean = data.data.mean(axis=(0,1,2))/255\n",
    "std = data.data.std(axis=(0,1,2))/255\n",
    "print(f'mean: {mean}')\n",
    "print(f'std: {std}')"
   ]
  },
  {
   "cell_type": "code",
   "execution_count": 3,
   "metadata": {},
   "outputs": [
    {
     "name": "stdout",
     "output_type": "stream",
     "text": [
      "Files already downloaded and verified\n",
      "Files already downloaded and verified\n"
     ]
    }
   ],
   "source": [
    "transform = transforms.Compose([\n",
    "    transforms.ToTensor(),\n",
    "    transforms.Normalize(mean, std)\n",
    "])\n",
    "\n",
    "\n",
    "# Prepare test data\n",
    "cifar_test = CIFAR10('../data/', train=False, download=True, transform=transform)\n",
    "test_dataloader = torch.utils.data.DataLoader(dataset=cifar_test, batch_size=1000)\n",
    "\n",
    "\n",
    "# Prepare train/val data\n",
    "cifar_train = CIFAR10('../data/', train=True, download=True, transform=transform)\n",
    "\n",
    "val_size = 2000\n",
    "train_size= len(cifar_train) - val_size\n",
    "torch.manual_seed(42)\n",
    "cifar_train, cifar_val = torch.utils.data.random_split(cifar_train, [train_size, val_size])\n",
    "\n",
    "\n",
    "train_dataloader = torch.utils.data.DataLoader(dataset=cifar_train, batch_size=1000, shuffle=True)\n",
    "val_dataloader = torch.utils.data.DataLoader(dataset=cifar_val, batch_size=1000)"
   ]
  },
  {
   "cell_type": "code",
   "execution_count": 4,
   "metadata": {},
   "outputs": [],
   "source": [
    "classes = ('plane', 'car', 'bird', 'cat', 'deer',\n",
    "           'dog', 'frog', 'horse', 'ship', 'truck')\n",
    "\n",
    "classes = {label: i for i, label in enumerate(classes)}"
   ]
  },
  {
   "attachments": {},
   "cell_type": "markdown",
   "metadata": {},
   "source": [
    "## Модели"
   ]
  },
  {
   "attachments": {},
   "cell_type": "markdown",
   "metadata": {},
   "source": [
    "### Автоэнкодер"
   ]
  },
  {
   "cell_type": "code",
   "execution_count": 5,
   "metadata": {},
   "outputs": [
    {
     "data": {
      "text/plain": [
       "<All keys matched successfully>"
      ]
     },
     "execution_count": 5,
     "metadata": {},
     "output_type": "execute_result"
    }
   ],
   "source": [
    "autoencoder_weights = '../models/autoencoder_without_love.pth'\n",
    "\n",
    "autoencoder = MyAutoencoder()\n",
    "autoencoder.load_state_dict(torch.load(autoencoder_weights))"
   ]
  },
  {
   "attachments": {},
   "cell_type": "markdown",
   "metadata": {},
   "source": [
    "### Классификатор"
   ]
  },
  {
   "cell_type": "code",
   "execution_count": 6,
   "metadata": {},
   "outputs": [],
   "source": [
    "class Classifier(LightningModule):\n",
    "    def __init__(self, autoencoder, classifier, classes, lr):\n",
    "        super().__init__()\n",
    "\n",
    "        self._autoencoder = autoencoder\n",
    "        self._autoencoder.requires_grad_(False)\n",
    "        self.encoder = self._autoencoder.encoder\n",
    "\n",
    "        self.clf = classifier\n",
    "\n",
    "        self.classes = classes\n",
    "        self.lr = lr\n",
    "\n",
    "        # Quality metrics\n",
    "        self.accuracy = torchmetrics.Accuracy('multiclass', num_classes=len(self.classes))\n",
    "        self.conf_matrix = torchmetrics.ConfusionMatrix('multiclass', num_classes=len(self.classes))\n",
    "\n",
    "    def forward(self, x):\n",
    "        # Freeze the encoder\n",
    "        self.encoder.eval()\n",
    "        with torch.no_grad():\n",
    "            encoded = self.encoder(x).flatten(1)\n",
    "        \n",
    "        x = self.clf(encoded)\n",
    "        return x\n",
    "\n",
    "    def configure_optimizers(self):\n",
    "        optimizer = torch.optim.Adam(self.parameters(), lr=self.lr)\n",
    "        return optimizer\n",
    "\n",
    "    def training_step(self, train_batch, batch_idx):\n",
    "        x, y = train_batch\n",
    "        y_pred = self.forward(x)\n",
    "        loss = F.cross_entropy(y_pred, y)\n",
    "\n",
    "        # Logs\n",
    "        self.logger.experiment.add_scalars('Loss', \n",
    "                                           {'train loss': loss}, \n",
    "                                           global_step=self.global_step)\n",
    "        self.logger.experiment.add_scalars('Accuracy', \n",
    "                                           {'train accuracy': self.accuracy(y_pred, y)}, \n",
    "                                           global_step=self.global_step)\n",
    "\n",
    "        return loss\n",
    "        \n",
    "    def validation_step(self, val_batch, batch_idx):\n",
    "        x, y = val_batch\n",
    "        y_pred = self.forward(x)\n",
    "        loss = F.cross_entropy(y_pred, y)\n",
    "\n",
    "\n",
    "        # Logs\n",
    "        self.logger.experiment.add_scalars('Loss', \n",
    "                                           {'val loss': loss}, \n",
    "                                           global_step=self.global_step)\n",
    "        self.logger.experiment.add_scalars('Accuracy', \n",
    "                                           {'val accuracy': self.accuracy(y_pred, y)}, \n",
    "                                           global_step=self.global_step)\n",
    "        matrix = self.conf_matrix(y_pred, y)\n",
    "        vis_confusion(self.logger.experiment, 'val', self.global_step, matrix, self.classes)\n",
    "\n",
    "        return loss\n",
    "\n",
    "    def test_step(self, test_batch, batch_idx):\n",
    "        x, y = test_batch\n",
    "        y_pred = self.forward(x)\n",
    "\n",
    "        # Logs\n",
    "        self.logger.experiment.add_scalars('Accuracy', \n",
    "                                           {'test accuracy': self.accuracy(y_pred, y)}, \n",
    "                                           global_step=self.global_step)\n",
    "        matrix = self.conf_matrix(y_pred, y)\n",
    "        vis_confusion(self.logger.experiment, 'test', self.global_step, matrix, self.classes)\n"
   ]
  },
  {
   "cell_type": "code",
   "execution_count": 9,
   "metadata": {},
   "outputs": [],
   "source": [
    "def train(clf, name, max_epochs=10):\n",
    "    net = Classifier(autoencoder, clf, classes, lr=1e-3)\n",
    "\n",
    "    logger = TensorBoardLogger('', name='runs_clf', version=name)\n",
    "\n",
    "    trainer = Trainer(max_epochs=max_epochs, logger=logger)\n",
    "    trainer.fit(net, train_dataloader, val_dataloader)\n",
    "\n",
    "    return net, trainer"
   ]
  },
  {
   "cell_type": "code",
   "execution_count": 10,
   "metadata": {},
   "outputs": [
    {
     "name": "stderr",
     "output_type": "stream",
     "text": [
      "GPU available: False, used: False\n",
      "TPU available: False, using: 0 TPU cores\n",
      "IPU available: False, using: 0 IPUs\n",
      "HPU available: False, using: 0 HPUs\n",
      "\n",
      "  | Name         | Type                      | Params\n",
      "-----------------------------------------------------------\n",
      "0 | _autoencoder | MyAutoencoder             | 8.2 K \n",
      "1 | encoder      | Sequential                | 4.1 K \n",
      "2 | clf          | Sequential                | 167 K \n",
      "3 | accuracy     | MulticlassAccuracy        | 0     \n",
      "4 | conf_matrix  | MulticlassConfusionMatrix | 0     \n",
      "-----------------------------------------------------------\n",
      "167 K     Trainable params\n",
      "8.2 K     Non-trainable params\n",
      "175 K     Total params\n",
      "0.703     Total estimated model params size (MB)\n"
     ]
    },
    {
     "name": "stdout",
     "output_type": "stream",
     "text": [
      "Sanity Checking: 0it [00:00, ?it/s]"
     ]
    },
    {
     "name": "stderr",
     "output_type": "stream",
     "text": [
      "/Users/citizen2/Documents/miltask/.venv/lib/python3.10/site-packages/pytorch_lightning/trainer/connectors/data_connector.py:224: PossibleUserWarning: The dataloader, val_dataloader 0, does not have many workers which may be a bottleneck. Consider increasing the value of the `num_workers` argument` (try 8 which is the number of cpus on this machine) in the `DataLoader` init to improve performance.\n",
      "  rank_zero_warn(\n"
     ]
    },
    {
     "name": "stdout",
     "output_type": "stream",
     "text": [
      "Sanity Checking DataLoader 0:  50%|█████     | 1/2 [00:00<00:00,  1.21it/s]"
     ]
    },
    {
     "name": "stderr",
     "output_type": "stream",
     "text": [
      "/Users/citizen2/Documents/miltask/src/utils.py:67: UserWarning: FixedFormatter should only be used together with FixedLocator\n",
      "  ax.set_xticklabels([''] + all_categories, rotation=90)\n",
      "/Users/citizen2/Documents/miltask/src/utils.py:68: UserWarning: FixedFormatter should only be used together with FixedLocator\n",
      "  ax.set_yticklabels([''] + all_categories)\n"
     ]
    },
    {
     "name": "stdout",
     "output_type": "stream",
     "text": [
      "                                                                           "
     ]
    },
    {
     "name": "stderr",
     "output_type": "stream",
     "text": [
      "/Users/citizen2/Documents/miltask/.venv/lib/python3.10/site-packages/pytorch_lightning/trainer/connectors/data_connector.py:224: PossibleUserWarning: The dataloader, train_dataloader, does not have many workers which may be a bottleneck. Consider increasing the value of the `num_workers` argument` (try 8 which is the number of cpus on this machine) in the `DataLoader` init to improve performance.\n",
      "  rank_zero_warn(\n",
      "/Users/citizen2/Documents/miltask/.venv/lib/python3.10/site-packages/pytorch_lightning/trainer/trainer.py:1600: PossibleUserWarning: The number of training batches (48) is smaller than the logging interval Trainer(log_every_n_steps=50). Set a lower value for log_every_n_steps if you want to see logs for the training epoch.\n",
      "  rank_zero_warn(\n"
     ]
    },
    {
     "name": "stdout",
     "output_type": "stream",
     "text": [
      "Epoch 2:  44%|████▍     | 22/50 [02:30<03:10,  6.82s/it, loss=1.44, v_num=8067]\n",
      "Epoch 9: 100%|██████████| 50/50 [00:38<00:00,  1.30it/s, loss=0.97, v_num=8257] "
     ]
    },
    {
     "name": "stderr",
     "output_type": "stream",
     "text": [
      "`Trainer.fit` stopped: `max_epochs=10` reached.\n"
     ]
    },
    {
     "name": "stdout",
     "output_type": "stream",
     "text": [
      "Epoch 9: 100%|██████████| 50/50 [00:38<00:00,  1.30it/s, loss=0.97, v_num=8257]\n"
     ]
    }
   ],
   "source": [
    "clf = nn.Sequential(\n",
    "    nn.Linear(1024, 128),\n",
    "    nn.BatchNorm1d(128),\n",
    "    nn.ReLU(),\n",
    "\n",
    "    nn.Linear(128, 256),\n",
    "    nn.BatchNorm1d(256),\n",
    "    nn.ReLU(),\n",
    "\n",
    "    nn.Linear(256, 10),\n",
    "    )\n",
    "\n",
    "import time\n",
    "now = int(time.time())\n",
    "\n",
    "net, trainer = train(clf, f'run_{now}', 10)"
   ]
  },
  {
   "attachments": {},
   "cell_type": "markdown",
   "metadata": {},
   "source": [
    "## Оценка качества"
   ]
  },
  {
   "cell_type": "code",
   "execution_count": null,
   "metadata": {},
   "outputs": [],
   "source": [
    "trainer.test(dataloaders=test_dataloader)"
   ]
  },
  {
   "cell_type": "code",
   "execution_count": 13,
   "metadata": {},
   "outputs": [],
   "source": [
    "torch.save(net.state_dict(), '../models/clf_model.pth')"
   ]
  }
 ],
 "metadata": {
  "kernelspec": {
   "display_name": ".venv",
   "language": "python",
   "name": "python3"
  },
  "language_info": {
   "codemirror_mode": {
    "name": "ipython",
    "version": 3
   },
   "file_extension": ".py",
   "mimetype": "text/x-python",
   "name": "python",
   "nbconvert_exporter": "python",
   "pygments_lexer": "ipython3",
   "version": "3.10.0"
  },
  "orig_nbformat": 4,
  "vscode": {
   "interpreter": {
    "hash": "61fb6b4e7f5d2bd445f202524dd63e280d3bad4416a3373ef11e11887acaa28c"
   }
  }
 },
 "nbformat": 4,
 "nbformat_minor": 2
}
