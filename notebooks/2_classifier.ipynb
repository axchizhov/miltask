{
 "cells": [
  {
   "attachments": {},
   "cell_type": "markdown",
   "metadata": {},
   "source": [
    "# Эксперименты с классификатором"
   ]
  },
  {
   "attachments": {},
   "cell_type": "markdown",
   "metadata": {},
   "source": [
    "## Подготовка данных"
   ]
  },
  {
   "cell_type": "code",
   "execution_count": 5,
   "metadata": {},
   "outputs": [],
   "source": [
    "import torch\n",
    "import torchvision\n",
    "import matplotlib.pyplot as plt\n",
    "import torchmetrics\n",
    "\n",
    "from torch import nn\n",
    "from torchvision.datasets import CIFAR10\n",
    "from torchvision import transforms\n",
    "from torch.utils.tensorboard import SummaryWriter\n",
    "from pytorch_lightning import Trainer\n",
    "from pytorch_lightning.loggers import TensorBoardLogger\n",
    "\n",
    "from models.autoencoder import MyAutoencoder\n",
    "from models.classifier import MyClassifier\n",
    "from src.utils import plot_reconstructed, grid_plot, vis_confusion"
   ]
  },
  {
   "cell_type": "code",
   "execution_count": 6,
   "metadata": {},
   "outputs": [
    {
     "name": "stdout",
     "output_type": "stream",
     "text": [
      "Files already downloaded and verified\n",
      "Files already downloaded and verified\n"
     ]
    }
   ],
   "source": [
    "transform = transforms.Compose([\n",
    "    transforms.ToTensor(),\n",
    "])\n",
    "\n",
    "\n",
    "# Prepare test data\n",
    "cifar_test = CIFAR10('data/', train=False, download=True, transform=transform)\n",
    "test_dataloader = torch.utils.data.DataLoader(dataset=cifar_test, batch_size=1000)\n",
    "\n",
    "\n",
    "# Prepare train/val data\n",
    "cifar_train = CIFAR10('data/', train=True, download=True, transform=transform)\n",
    "\n",
    "val_size = 2000\n",
    "train_size= len(cifar_train) - val_size\n",
    "torch.manual_seed(42)\n",
    "cifar_train, cifar_val = torch.utils.data.random_split(cifar_train, [train_size, val_size])\n",
    "\n",
    "\n",
    "train_dataloader = torch.utils.data.DataLoader(dataset=cifar_train, batch_size=1000, shuffle=True)\n",
    "val_dataloader = torch.utils.data.DataLoader(dataset=cifar_val, batch_size=1000)"
   ]
  },
  {
   "cell_type": "code",
   "execution_count": 7,
   "metadata": {},
   "outputs": [],
   "source": [
    "classes = ('plane', 'car', 'bird', 'cat', 'deer',\n",
    "           'dog', 'frog', 'horse', 'ship', 'truck')\n",
    "\n",
    "classes = {label: i for i, label in enumerate(classes)}"
   ]
  },
  {
   "attachments": {},
   "cell_type": "markdown",
   "metadata": {},
   "source": [
    "## Модели"
   ]
  },
  {
   "attachments": {},
   "cell_type": "markdown",
   "metadata": {},
   "source": [
    "### Автоэнкодер"
   ]
  },
  {
   "cell_type": "code",
   "execution_count": 8,
   "metadata": {},
   "outputs": [
    {
     "data": {
      "text/plain": [
       "<All keys matched successfully>"
      ]
     },
     "execution_count": 8,
     "metadata": {},
     "output_type": "execute_result"
    }
   ],
   "source": [
    "autoencoder_weights = 'outputs/autoencoder_model.pth'\n",
    "\n",
    "autoencoder = MyAutoencoder()\n",
    "autoencoder.load_state_dict(torch.load(autoencoder_weights))"
   ]
  },
  {
   "attachments": {},
   "cell_type": "markdown",
   "metadata": {},
   "source": [
    "### Классификатор"
   ]
  },
  {
   "cell_type": "code",
   "execution_count": 9,
   "metadata": {},
   "outputs": [],
   "source": [
    "def train(clf, name, max_epochs=20):\n",
    "    net = MyClassifier(autoencoder, clf, classes, lr=1e-3)\n",
    "\n",
    "    logger = TensorBoardLogger('', name='outputs', version=name)\n",
    "\n",
    "    trainer = Trainer(max_epochs=max_epochs, logger=logger)\n",
    "    trainer.fit(net, train_dataloader, val_dataloader)\n",
    "    \n",
    "    # trainer = Trainer(max_epochs=20, check_val_every_n_epoch=2,\n",
    "    #      limit_train_batches=5, limit_val_batches=5, logger=logger)\n",
    "    # trainer = Trainer(check_val_every_n_epoch=5)\n",
    "\n",
    "    # trainer = Trainer(max_epochs=20, limit_train_batches=5, limit_val_batches=5, logger=logger)\n",
    "    # trainer = Trainer(max_epochs=20, log_every_n_steps=10, logger=logger)\n",
    "    # trainer = Trainer(max_epochs=20, logger=logger,\n",
    "    #                     check_val_every_n_epoch=1)"
   ]
  },
  {
   "cell_type": "code",
   "execution_count": 10,
   "metadata": {},
   "outputs": [
    {
     "name": "stderr",
     "output_type": "stream",
     "text": [
      "GPU available: False, used: False\n",
      "TPU available: False, using: 0 TPU cores\n",
      "IPU available: False, using: 0 IPUs\n",
      "HPU available: False, using: 0 HPUs\n",
      "\n",
      "  | Name         | Type                      | Params\n",
      "-----------------------------------------------------------\n",
      "0 | _autoencoder | MyAutoencoder             | 1.5 K \n",
      "1 | encoder      | Sequential                | 772   \n",
      "2 | clf          | Sequential                | 41.8 K\n",
      "3 | accuracy     | MulticlassAccuracy        | 0     \n",
      "4 | conf_matrix  | MulticlassConfusionMatrix | 0     \n",
      "-----------------------------------------------------------\n",
      "41.8 K    Trainable params\n",
      "1.5 K     Non-trainable params\n",
      "43.3 K    Total params\n",
      "0.173     Total estimated model params size (MB)\n"
     ]
    },
    {
     "name": "stdout",
     "output_type": "stream",
     "text": [
      "Sanity Checking: 0it [00:00, ?it/s]"
     ]
    },
    {
     "name": "stderr",
     "output_type": "stream",
     "text": [
      "/Users/citizen2/Documents/miltask/.venv/lib/python3.10/site-packages/pytorch_lightning/trainer/connectors/data_connector.py:224: PossibleUserWarning: The dataloader, val_dataloader 0, does not have many workers which may be a bottleneck. Consider increasing the value of the `num_workers` argument` (try 8 which is the number of cpus on this machine) in the `DataLoader` init to improve performance.\n",
      "  rank_zero_warn(\n"
     ]
    },
    {
     "name": "stdout",
     "output_type": "stream",
     "text": [
      "Sanity Checking DataLoader 0:  50%|█████     | 1/2 [00:00<00:00,  3.21it/s]"
     ]
    },
    {
     "name": "stderr",
     "output_type": "stream",
     "text": [
      "/Users/citizen2/Documents/miltask/src/utils.py:72: UserWarning: FixedFormatter should only be used together with FixedLocator\n",
      "  ax.set_xticklabels([''] + all_categories, rotation=90)\n",
      "/Users/citizen2/Documents/miltask/src/utils.py:73: UserWarning: FixedFormatter should only be used together with FixedLocator\n",
      "  ax.set_yticklabels([''] + all_categories)\n"
     ]
    },
    {
     "name": "stdout",
     "output_type": "stream",
     "text": [
      "                                                                           "
     ]
    },
    {
     "name": "stderr",
     "output_type": "stream",
     "text": [
      "/Users/citizen2/Documents/miltask/.venv/lib/python3.10/site-packages/pytorch_lightning/trainer/connectors/data_connector.py:224: PossibleUserWarning: The dataloader, train_dataloader, does not have many workers which may be a bottleneck. Consider increasing the value of the `num_workers` argument` (try 8 which is the number of cpus on this machine) in the `DataLoader` init to improve performance.\n",
      "  rank_zero_warn(\n",
      "/Users/citizen2/Documents/miltask/.venv/lib/python3.10/site-packages/pytorch_lightning/trainer/trainer.py:1600: PossibleUserWarning: The number of training batches (48) is smaller than the logging interval Trainer(log_every_n_steps=50). Set a lower value for log_every_n_steps if you want to see logs for the training epoch.\n",
      "  rank_zero_warn(\n"
     ]
    },
    {
     "name": "stdout",
     "output_type": "stream",
     "text": [
      "Epoch 19: 100%|██████████| 50/50 [00:09<00:00,  5.24it/s, loss=1.44, v_num=run3]"
     ]
    },
    {
     "name": "stderr",
     "output_type": "stream",
     "text": [
      "`Trainer.fit` stopped: `max_epochs=20` reached.\n"
     ]
    },
    {
     "name": "stdout",
     "output_type": "stream",
     "text": [
      "Epoch 19: 100%|██████████| 50/50 [00:09<00:00,  5.24it/s, loss=1.44, v_num=run3]\n"
     ]
    }
   ],
   "source": [
    "clf = nn.Sequential(\n",
    "    nn.Linear(256, 128),\n",
    "    nn.ReLU(),\n",
    "    nn.Linear(128, 64),\n",
    "    nn.ReLU(),\n",
    "    nn.Linear(64, 10),\n",
    "    )\n",
    "\n",
    "train(clf, 'test_run3')"
   ]
  },
  {
   "cell_type": "code",
   "execution_count": null,
   "metadata": {},
   "outputs": [],
   "source": [
    "#         self.conv1 = nn.Conv2d(4, 6, 5)\n",
    "#         self.pool = nn.MaxPool2d(2, 2)\n",
    "#         self.conv2 = nn.Conv2d(6, 16, 5)\n",
    "#         self.fc1 = nn.Linear(16 * 5 * 5, 120)\n",
    "#         self.fc2 = nn.Linear(120, 84)\n",
    "#         self.fc3 = nn.Linear(84, 10)\n",
    "\n",
    "#     def forward(self, x):\n",
    "#         x = self.pool(F.relu(self.conv1(x)))\n",
    "#         x = self.pool(F.relu(self.conv2(x)))\n",
    "#         x = torch.flatten(x, 1) # flatten all dimensions except batch\n",
    "#         x = F.relu(self.fc1(x))\n",
    "#         x = F.relu(self.fc2(x))\n",
    "#         x = self.fc3(x)\n",
    "#         return x"
   ]
  },
  {
   "cell_type": "code",
   "execution_count": null,
   "metadata": {},
   "outputs": [],
   "source": [
    "# def conv_block(in_f, out_f, *args, **kwargs):\n",
    "# \treturn nn.Sequential(\n",
    "# \t\tnn.Conv2d(in_f, out_f, *args, **kwargs),\n",
    "# \t\tnn.BatchNorm2d(out_f),\n",
    "# \t\tnn.ReLU()\n",
    "# \t\t)\n",
    "\n",
    "\n",
    "# class MyCNNClassifier(nn.Module):\n",
    "# 2\t    def __init__(self, in_c, n_classes):\n",
    "# 3\t        super().__init__()\n",
    "# 4\t        self.encoder = nn.Sequential(\n",
    "# 5\t            conv_block(in_c, 32, kernel_size=3, padding=1),\n",
    "# 6\t            conv_block(32, 64, kernel_size=3, padding=1)\n",
    "# 7\t        )\n",
    "# 8\t\n",
    "# 9\t        \n",
    "# 10\t        self.decoder = nn.Sequential(\n",
    "# 11\t            nn.Linear(32 * 28 * 28, 1024),\n",
    "# 12\t            nn.Sigmoid(),\n",
    "# 13\t            nn.Linear(1024, n_classes)\n",
    "# 14\t        )\n",
    "# 15\t\n",
    "# 16\t        \n",
    "# 17\t    def forward(self, x):\n",
    "# 18\t        x = self.encoder(x)\n",
    "# 19\t        \n",
    "# 20\t        x = x.view(x.size(0), -1) # flat\n",
    "# 21\t        \n",
    "# 22\t        x = self.decoder(x)"
   ]
  },
  {
   "cell_type": "code",
   "execution_count": null,
   "metadata": {},
   "outputs": [],
   "source": []
  },
  {
   "cell_type": "code",
   "execution_count": 8,
   "metadata": {},
   "outputs": [
    {
     "name": "stderr",
     "output_type": "stream",
     "text": [
      "GPU available: False, used: False\n",
      "TPU available: False, using: 0 TPU cores\n",
      "IPU available: False, using: 0 IPUs\n",
      "HPU available: False, using: 0 HPUs\n",
      "\n",
      "  | Name        | Type                      | Params\n",
      "----------------------------------------------------------\n",
      "0 | clf         | Sequential                | 41.8 K\n",
      "1 | accuracy    | MulticlassAccuracy        | 0     \n",
      "2 | conf_matrix | MulticlassConfusionMatrix | 0     \n",
      "----------------------------------------------------------\n",
      "41.8 K    Trainable params\n",
      "0         Non-trainable params\n",
      "41.8 K    Total params\n",
      "0.167     Total estimated model params size (MB)\n"
     ]
    },
    {
     "name": "stdout",
     "output_type": "stream",
     "text": [
      "Epoch 2:  80%|████████  | 40/50 [00:30<00:07,  1.30it/s, loss=2.3, v_num=un_2] "
     ]
    }
   ],
   "source": []
  },
  {
   "cell_type": "code",
   "execution_count": null,
   "metadata": {},
   "outputs": [],
   "source": [
    "torch.save(net.state_dict(), 'outputs/clf_model.pth')"
   ]
  },
  {
   "attachments": {},
   "cell_type": "markdown",
   "metadata": {},
   "source": [
    "## Оценка качества"
   ]
  },
  {
   "attachments": {},
   "cell_type": "markdown",
   "metadata": {},
   "source": [
    "trainer.test(dataloaders=test_dataloader)"
   ]
  },
  {
   "cell_type": "code",
   "execution_count": null,
   "metadata": {},
   "outputs": [
    {
     "data": {
      "text/plain": [
       "<All keys matched successfully>"
      ]
     },
     "execution_count": 5,
     "metadata": {},
     "output_type": "execute_result"
    }
   ],
   "source": [
    "net = Classifier()\n",
    "net.load_state_dict(torch.load('outputs/clf_model.pth'))"
   ]
  }
 ],
 "metadata": {
  "kernelspec": {
   "display_name": ".venv",
   "language": "python",
   "name": "python3"
  },
  "language_info": {
   "codemirror_mode": {
    "name": "ipython",
    "version": 3
   },
   "file_extension": ".py",
   "mimetype": "text/x-python",
   "name": "python",
   "nbconvert_exporter": "python",
   "pygments_lexer": "ipython3",
   "version": "3.10.0 (v3.10.0:b494f5935c, Oct  4 2021, 14:59:20) [Clang 12.0.5 (clang-1205.0.22.11)]"
  },
  "orig_nbformat": 4,
  "vscode": {
   "interpreter": {
    "hash": "61fb6b4e7f5d2bd445f202524dd63e280d3bad4416a3373ef11e11887acaa28c"
   }
  }
 },
 "nbformat": 4,
 "nbformat_minor": 2
}
