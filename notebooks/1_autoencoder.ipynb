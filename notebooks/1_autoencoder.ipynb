{
 "cells": [
  {
   "attachments": {},
   "cell_type": "markdown",
   "metadata": {},
   "source": [
    "# Эксперименты с автоэнкодером"
   ]
  },
  {
   "attachments": {},
   "cell_type": "markdown",
   "metadata": {},
   "source": [
    "## Подготовка данных"
   ]
  },
  {
   "cell_type": "code",
   "execution_count": 1,
   "metadata": {},
   "outputs": [
    {
     "name": "stderr",
     "output_type": "stream",
     "text": [
      "/Users/citizen2/Documents/miltask/.venv/lib/python3.10/site-packages/tqdm/auto.py:22: TqdmWarning: IProgress not found. Please update jupyter and ipywidgets. See https://ipywidgets.readthedocs.io/en/stable/user_install.html\n",
      "  from .autonotebook import tqdm as notebook_tqdm\n"
     ]
    }
   ],
   "source": [
    "import torch\n",
    "import torchvision\n",
    "import matplotlib.pyplot as plt\n",
    "\n",
    "from torch import nn\n",
    "from torchvision.datasets import CIFAR10\n",
    "from torchvision import transforms\n",
    "from torch.utils.tensorboard import SummaryWriter\n",
    "\n",
    "from src.utils import plot_reconstructed, grid_plot"
   ]
  },
  {
   "cell_type": "code",
   "execution_count": 2,
   "metadata": {},
   "outputs": [
    {
     "name": "stdout",
     "output_type": "stream",
     "text": [
      "Files already downloaded and verified\n",
      "mean: [0.49139968 0.48215841 0.44653091]\n",
      "std: [0.24703223 0.24348513 0.26158784]\n"
     ]
    }
   ],
   "source": [
    "data = CIFAR10('../data/', train=True, download=True)\n",
    "\n",
    "mean = data.data.mean(axis=(0,1,2))/255\n",
    "std = data.data.std(axis=(0,1,2))/255\n",
    "print(f'mean: {mean}')\n",
    "print(f'std: {std}')"
   ]
  },
  {
   "cell_type": "code",
   "execution_count": 3,
   "metadata": {},
   "outputs": [
    {
     "name": "stdout",
     "output_type": "stream",
     "text": [
      "Files already downloaded and verified\n"
     ]
    }
   ],
   "source": [
    "transform = transforms.Compose([\n",
    "    transforms.ToTensor(),\n",
    "    # transforms.Normalize(mean, std)\n",
    "])\n",
    "\n",
    "\n",
    "data = CIFAR10('../data/', train=True, download=True, transform=transform)\n",
    "data_loader = torch.utils.data.DataLoader(dataset=data, batch_size=50, shuffle=True)"
   ]
  },
  {
   "attachments": {},
   "cell_type": "markdown",
   "metadata": {},
   "source": [
    "# Обучение автоэнкодера"
   ]
  },
  {
   "cell_type": "code",
   "execution_count": 99,
   "metadata": {},
   "outputs": [],
   "source": [
    "def train(net):\n",
    "    criterion = nn.MSELoss()\n",
    "    optimizer = torch.optim.Adam(net.parameters(), lr=1e-3)\n",
    "\n",
    "\n",
    "    num_epochs = 1\n",
    "    tb = SummaryWriter()\n",
    "\n",
    "    step = 1\n",
    "    for epoch in range(num_epochs):\n",
    "        for batch, _ in data_loader:\n",
    "            reconstructed = net(batch)\n",
    "\n",
    "            loss = criterion(reconstructed, batch)\n",
    "            optimizer.zero_grad()\n",
    "            loss.backward()\n",
    "            optimizer.step()\n",
    "\n",
    "            tb.add_scalar(\"Loss/train\", loss, step)\n",
    "            if step%20 == 0:\n",
    "                    grid = grid_plot(batch, reconstructed)\n",
    "                    tb.add_image('Original vs Reconstructed', grid, step)\n",
    "\n",
    "            step += 1\n",
    "\n",
    "    tb.add_graph(net, batch)\n",
    "    tb.close()"
   ]
  },
  {
   "cell_type": "code",
   "execution_count": 100,
   "metadata": {},
   "outputs": [],
   "source": [
    "class Autoencoder(nn.Module):\n",
    "    def __init__(self):\n",
    "        super().__init__()\n",
    "\n",
    "        self.encoder = nn.Sequential(\n",
    "            nn.Conv2d(3, 64, kernel_size=3, stride=1, padding=1),\n",
    "            nn.LeakyReLU(),\n",
    "\n",
    "            nn.Conv2d(64, 4, kernel_size=3, stride=2, padding=1),\n",
    "            nn.LeakyReLU()\n",
    "            )\n",
    "\n",
    "        self.decoder = nn.Sequential(\n",
    "            nn.ConvTranspose2d(4, 64, 3, stride=2, padding=1, output_padding=1),\n",
    "            nn.LeakyReLU(),\n",
    "\n",
    "            nn.ConvTranspose2d(64, 3, 3, stride=1, padding=1),\n",
    "            nn.LeakyReLU(),\n",
    "        )\n",
    "\n",
    "    def forward(self, x):\n",
    "        coded = self.encoder(x)\n",
    "        decoded = self.decoder(coded)\n",
    "\n",
    "        return decoded\n",
    "\n",
    "net = Autoencoder()\n",
    "train(net)"
   ]
  },
  {
   "cell_type": "code",
   "execution_count": 104,
   "metadata": {},
   "outputs": [
    {
     "data": {
      "text/plain": [
       "==========================================================================================\n",
       "Layer (type:depth-idx)                   Output Shape              Param #\n",
       "==========================================================================================\n",
       "Autoencoder                              [1, 3, 32, 32]            --\n",
       "├─Sequential: 1-1                        [1, 4, 16, 16]            --\n",
       "│    └─Conv2d: 2-1                       [1, 64, 32, 32]           1,792\n",
       "│    └─LeakyReLU: 2-2                    [1, 64, 32, 32]           --\n",
       "│    └─Conv2d: 2-3                       [1, 4, 16, 16]            2,308\n",
       "│    └─LeakyReLU: 2-4                    [1, 4, 16, 16]            --\n",
       "├─Sequential: 1-2                        [1, 3, 32, 32]            --\n",
       "│    └─ConvTranspose2d: 2-5              [1, 64, 32, 32]           2,368\n",
       "│    └─LeakyReLU: 2-6                    [1, 64, 32, 32]           --\n",
       "│    └─ConvTranspose2d: 2-7              [1, 3, 32, 32]            1,731\n",
       "│    └─LeakyReLU: 2-8                    [1, 3, 32, 32]            --\n",
       "==========================================================================================\n",
       "Total params: 8,199\n",
       "Trainable params: 8,199\n",
       "Non-trainable params: 0\n",
       "Total mult-adds (M): 6.62\n",
       "==========================================================================================\n",
       "Input size (MB): 0.01\n",
       "Forward/backward pass size (MB): 1.08\n",
       "Params size (MB): 0.03\n",
       "Estimated Total Size (MB): 1.13\n",
       "=========================================================================================="
      ]
     },
     "execution_count": 104,
     "metadata": {},
     "output_type": "execute_result"
    }
   ],
   "source": [
    "from torchinfo import summary\n",
    "\n",
    "summary(Autoencoder(), input_size=(1, 3, 32, 32))"
   ]
  },
  {
   "attachments": {},
   "cell_type": "markdown",
   "metadata": {},
   "source": [
    "## Оценка качества\n",
    "\n",
    "\n",
    "\n",
    "Сохраняем понравившийся вариант"
   ]
  },
  {
   "cell_type": "code",
   "execution_count": null,
   "metadata": {},
   "outputs": [],
   "source": [
    "torch.save(net.state_dict(), '../outputs/clf_model.pth')"
   ]
  }
 ],
 "metadata": {
  "kernelspec": {
   "display_name": ".venv",
   "language": "python",
   "name": "python3"
  },
  "language_info": {
   "codemirror_mode": {
    "name": "ipython",
    "version": 3
   },
   "file_extension": ".py",
   "mimetype": "text/x-python",
   "name": "python",
   "nbconvert_exporter": "python",
   "pygments_lexer": "ipython3",
   "version": "3.10.0"
  },
  "orig_nbformat": 4,
  "vscode": {
   "interpreter": {
    "hash": "61fb6b4e7f5d2bd445f202524dd63e280d3bad4416a3373ef11e11887acaa28c"
   }
  }
 },
 "nbformat": 4,
 "nbformat_minor": 2
}
