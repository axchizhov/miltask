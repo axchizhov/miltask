{
 "cells": [
  {
   "attachments": {},
   "cell_type": "markdown",
   "metadata": {},
   "source": [
    "# Классификатор"
   ]
  },
  {
   "attachments": {},
   "cell_type": "markdown",
   "metadata": {},
   "source": [
    "## Подготовка данных "
   ]
  },
  {
   "cell_type": "code",
   "execution_count": 1,
   "metadata": {},
   "outputs": [
    {
     "name": "stdout",
     "output_type": "stream",
     "text": [
      "Files already downloaded and verified\n"
     ]
    }
   ],
   "source": [
    "import torch\n",
    "import torchvision\n",
    "import matplotlib.pyplot as plt\n",
    "import torchmetrics\n",
    "\n",
    "from torch import nn\n",
    "from torchvision.datasets import CIFAR10\n",
    "from torchvision import transforms\n",
    "from torch.utils.tensorboard import SummaryWriter\n",
    "\n",
    "from model import Autoencoder, Classifier\n",
    "from utils import plot_reconstructed, grid_plot, vis_confusion\n",
    "\n",
    "\n",
    "\n",
    "\n",
    "class Encode:\n",
    "    def __init__(self):\n",
    "        self.autoencoder_weights = 'outputs/autoencoder_model.pth'\n",
    "        self._autoencoder = Autoencoder()\n",
    "        self._autoencoder.load_state_dict(torch.load(self.autoencoder_weights))\n",
    "\n",
    "        self.encoder = self._autoencoder.encoder\n",
    "        \n",
    "    def __call__(self, image: torch.Tensor) -> torch.Tensor:\n",
    "        return self.encoder(image)\n",
    "\n",
    "\n",
    "transform = transforms.Compose([\n",
    "    transforms.ToTensor(),\n",
    "    Encode(),\n",
    "    transforms.Lambda(torch.flatten)\n",
    "])\n",
    "\n",
    "\n",
    "data = CIFAR10('data/', train=False, download=True, transform=transform)\n",
    "# data = CIFAR10('data/', train=False, download=True)\n",
    "\n",
    "data_loader = torch.utils.data.DataLoader(dataset=data, batch_size=16, shuffle=True)"
   ]
  },
  {
   "cell_type": "code",
   "execution_count": null,
   "metadata": {},
   "outputs": [],
   "source": [
    "classes = ('plane', 'car', 'bird', 'cat', 'deer',\n",
    "           'dog', 'frog', 'horse', 'ship', 'truck')\n",
    "\n",
    "classes = {label: i for i, label in enumerate(classes)}"
   ]
  },
  {
   "cell_type": "code",
   "execution_count": null,
   "metadata": {},
   "outputs": [],
   "source": [
    "validate\n",
    "\n",
    "random_split"
   ]
  },
  {
   "cell_type": "code",
   "execution_count": 2,
   "metadata": {},
   "outputs": [
    {
     "data": {
      "text/plain": [
       "torch.Size([256])"
      ]
     },
     "execution_count": 2,
     "metadata": {},
     "output_type": "execute_result"
    }
   ],
   "source": [
    "data[0][0].shape"
   ]
  },
  {
   "attachments": {},
   "cell_type": "markdown",
   "metadata": {},
   "source": [
    "## Обучение классификатора"
   ]
  },
  {
   "cell_type": "code",
   "execution_count": 3,
   "metadata": {},
   "outputs": [],
   "source": [
    "net = Classifier()\n",
    "criterion = nn.CrossEntropyLoss()\n",
    "optimizer = torch.optim.Adam(net.parameters(), lr=1e-3)\n",
    "\n",
    "\n",
    "num_epochs = 1\n",
    "tb = SummaryWriter()\n",
    "\n",
    "for epoch in range(num_epochs):\n",
    "    train_loss = 0.0\n",
    "    for batch, labels in data_loader:\n",
    "        outputs = net(batch)\n",
    "        \n",
    "        loss = criterion(outputs, labels)\n",
    "        tb.add_scalar(\"Classifier: Loss/train\", loss, epoch)\n",
    "\n",
    "        optimizer.zero_grad()\n",
    "        loss.backward()\n",
    "        optimizer.step()\n",
    "    \n",
    "    # Validate model every N epoch\n",
    "    if epoch%10 == 0:\n",
    "        \n",
    "\n",
    "    # # Log results with a last batch from the loop\n",
    "    # grid = grid_plot(batch, reconstructed)\n",
    "    # tb.add_image('Original vs Reconstructed', grid, epoch)\n"
   ]
  },
  {
   "cell_type": "code",
   "execution_count": null,
   "metadata": {},
   "outputs": [],
   "source": [
    "import numpy as np\n",
    "epochs = 5\n",
    "min_valid_loss = np.inf\n",
    "\n",
    "for e in range(epochs):\n",
    "    train_loss = 0.0\n",
    "    model.train()     # Optional when not using Model Specific layer\n",
    "    for data, labels in trainloader:\n",
    "        if torch.cuda.is_available():\n",
    "            data, labels = data.cuda(), labels.cuda()\n",
    "        \n",
    "        optimizer.zero_grad()\n",
    "        target = model(data)\n",
    "        loss = criterion(target,labels)\n",
    "        loss.backward()\n",
    "        optimizer.step()\n",
    "        train_loss += loss.item()\n",
    "    \n",
    "    valid_loss = 0.0\n",
    "    model.eval()     # Optional when not using Model Specific layer\n",
    "    for data, labels in validloader:\n",
    "        if torch.cuda.is_available():\n",
    "            data, labels = data.cuda(), labels.cuda()\n",
    "        \n",
    "        target = model(data)\n",
    "        loss = criterion(target,labels)\n",
    "        valid_loss = loss.item() * data.size(0)\n",
    "\n",
    "    print(f'Epoch {e+1} \\t\\t Training Loss: {train_loss / len(trainloader)} \\t\\t Validation Loss: {valid_loss / len(validloader)}')\n",
    "    if min_valid_loss > valid_loss:\n",
    "        print(f'Validation Loss Decreased({min_valid_loss:.6f}--->{valid_loss:.6f}) \\t Saving The Model')\n",
    "        min_valid_loss = valid_loss\n",
    "        # Saving State Dict\n",
    "        torch.save(model.state_dict(), 'saved_model.pth')"
   ]
  },
  {
   "cell_type": "code",
   "execution_count": null,
   "metadata": {},
   "outputs": [],
   "source": []
  },
  {
   "cell_type": "code",
   "execution_count": 4,
   "metadata": {},
   "outputs": [
    {
     "name": "stdout",
     "output_type": "stream",
     "text": [
      "tensor([8, 3, 6, 2, 1, 2, 0, 8, 0, 9, 9, 7, 9, 7, 0, 3])\n",
      "tensor([9, 6, 4, 6, 8, 6, 2, 4, 5, 9, 8, 9, 9, 8, 0, 4])\n"
     ]
    }
   ],
   "source": [
    "outputs = net(batch)\n",
    "_, y_pred = torch.max(outputs, 1)\n",
    "\n",
    "\n",
    "print(labels)\n",
    "print(y_pred)"
   ]
  },
  {
   "cell_type": "code",
   "execution_count": null,
   "metadata": {},
   "outputs": [],
   "source": []
  },
  {
   "cell_type": "code",
   "execution_count": null,
   "metadata": {},
   "outputs": [],
   "source": [
    "device = torch.device('cuda' if torch.cuda.is_available() else 'cpu')\n",
    "net = net.to(device)\n",
    "\n",
    "\n",
    "num_epochs = 10\n",
    "\n",
    "for epoch in range(num_epochs):\n",
    "    logs = {}\n",
    "    for phase in ['train', 'validation']:\n",
    "        if phase == 'train':\n",
    "            model.train()\n",
    "        else:\n",
    "            model.eval()\n",
    "\n",
    "        running_loss = 0.0\n",
    "        running_corrects = 0\n",
    "\n",
    "        for inputs, labels in dataloaders[phase]:\n",
    "            inputs = inputs.to(device)\n",
    "            labels = labels.to(device)\n",
    "\n",
    "            outputs = model(inputs)\n",
    "            loss = criterion(outputs, labels)\n",
    "\n",
    "            if phase == 'train':\n",
    "                optimizer.zero_grad()\n",
    "                loss.backward()\n",
    "                optimizer.step()\n",
    "\n",
    "            _, preds = torch.max(outputs, 1)\n",
    "            running_loss += loss.detach() * inputs.size(0)\n",
    "            running_corrects += torch.sum(preds == labels.data)\n",
    "\n",
    "        epoch_loss = running_loss / len(dataloaders[phase].dataset)\n",
    "        epoch_acc = running_corrects.float() / len(dataloaders[phase].dataset)\n",
    "        \n",
    "        prefix = ''\n",
    "        if phase == 'validation':\n",
    "            prefix = 'val_'\n",
    "\n",
    "        logs[prefix + 'log loss'] = epoch_loss.item()\n",
    "        logs[prefix + 'accuracy'] = epoch_acc.item()"
   ]
  },
  {
   "cell_type": "code",
   "execution_count": 13,
   "metadata": {},
   "outputs": [],
   "source": [
    "torch.save(net.state_dict(), 'outputs/clf_model.pth')"
   ]
  },
  {
   "attachments": {},
   "cell_type": "markdown",
   "metadata": {},
   "source": [
    "## Оценка качества"
   ]
  },
  {
   "cell_type": "code",
   "execution_count": 5,
   "metadata": {},
   "outputs": [
    {
     "data": {
      "text/plain": [
       "<All keys matched successfully>"
      ]
     },
     "execution_count": 5,
     "metadata": {},
     "output_type": "execute_result"
    }
   ],
   "source": [
    "net = Classifier()\n",
    "net.load_state_dict(torch.load('outputs/clf_model.pth'))"
   ]
  },
  {
   "cell_type": "code",
   "execution_count": 5,
   "metadata": {},
   "outputs": [
    {
     "name": "stdout",
     "output_type": "stream",
     "text": [
      "tensor([8, 3, 6, 2, 1, 2, 0, 8, 0, 9, 9, 7, 9, 7, 0, 3])\n",
      "tensor([9, 6, 4, 6, 8, 6, 2, 4, 5, 9, 8, 9, 9, 8, 0, 4])\n"
     ]
    }
   ],
   "source": [
    "outputs = net(batch)\n",
    "_, y_pred = torch.max(outputs, 1)\n",
    "\n",
    "\n",
    "print(labels)\n",
    "print(y_pred)"
   ]
  },
  {
   "cell_type": "code",
   "execution_count": 6,
   "metadata": {},
   "outputs": [],
   "source": [
    "\n",
    "\n",
    "matrix = torchmetrics.ConfusionMatrix('multiclass', num_classes=10)\n",
    "\n",
    "matrix = matrix(y_pred, labels).numpy()\n",
    "\n",
    "\n",
    "vis_confusion(tb, 1, matrix, classes)\n",
    "\n"
   ]
  },
  {
   "cell_type": "code",
   "execution_count": null,
   "metadata": {},
   "outputs": [],
   "source": [
    "tb = SummaryWriter()\n",
    "\n",
    "\n",
    "\n"
   ]
  },
  {
   "cell_type": "code",
   "execution_count": null,
   "metadata": {},
   "outputs": [],
   "source": []
  }
 ],
 "metadata": {
  "kernelspec": {
   "display_name": ".venv",
   "language": "python",
   "name": "python3"
  },
  "language_info": {
   "codemirror_mode": {
    "name": "ipython",
    "version": 3
   },
   "file_extension": ".py",
   "mimetype": "text/x-python",
   "name": "python",
   "nbconvert_exporter": "python",
   "pygments_lexer": "ipython3",
   "version": "3.10.0"
  },
  "orig_nbformat": 4,
  "vscode": {
   "interpreter": {
    "hash": "61fb6b4e7f5d2bd445f202524dd63e280d3bad4416a3373ef11e11887acaa28c"
   }
  }
 },
 "nbformat": 4,
 "nbformat_minor": 2
}
